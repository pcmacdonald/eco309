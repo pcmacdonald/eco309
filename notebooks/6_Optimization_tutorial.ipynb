{
 "cells": [
  {
   "cell_type": "markdown",
   "metadata": {},
   "source": [
    "# Optimization (tutorial)\n",
    "\n",
    "In this tutorial you will learn to code and use common optimization algorithms for static models."
   ]
  },
  {
   "cell_type": "code",
   "execution_count": null,
   "metadata": {},
   "outputs": [
    {
     "name": "stderr",
     "output_type": "stream",
     "text": [
      "\u001b[32m\u001b[1m   Updating\u001b[22m\u001b[39m registry at `C:\\Users\\phoeb\\.juliapro\\JuliaPro_v1.4.0-1\\registries\\JuliaPro`\n"
     ]
    }
   ],
   "source": [
    "]add NLsolve"
   ]
  },
  {
   "cell_type": "code",
   "execution_count": null,
   "metadata": {},
   "outputs": [],
   "source": [
    "]add Optim"
   ]
  },
  {
   "cell_type": "code",
   "execution_count": null,
   "metadata": {},
   "outputs": [],
   "source": [
    "]add Plots"
   ]
  },
  {
   "cell_type": "markdown",
   "metadata": {},
   "source": [
    "\n",
    "---\n",
    "\n",
    "## Profit optimization by a monopolist\n",
    "\n",
    "A monopolist produces quantity $q$ of goods X at price $p$. Its cost function is $c(q) = 0.5 + q (1-qe^{-q})$\n",
    "\n",
    "The consumer's demand for price $p$ is $x(p)=2 e^{-0.5 p}$ (constant elasticity of demand to price).\n",
    "\n",
    "__Write down the profit function of the monopolist and find the optimal production (if any). Don't use any library except for plotting.__\n",
    "\n"
   ]
  },
  {
   "cell_type": "markdown",
   "metadata": {},
   "source": [
    "We write the profit function:\n",
    "$\\pi(p) = px(p) - c(x(p)) = 2pe^{-0.5p} - 0.5 -  2e^{-0.5p}(1- 2e^{-0.5p}e^{- 2e^{-0.5p}}) = 2(p-1)e^{-0.5p} + 4e^{-p + 2e^{0.5p}} - 0.5$"
   ]
  },
  {
   "cell_type": "code",
   "execution_count": 5,
   "metadata": {},
   "outputs": [
    {
     "ename": "ArgumentError",
     "evalue": "ArgumentError: Package Plots not found in current path:\n- Run `import Pkg; Pkg.add(\"Plots\")` to install the Plots package.\n",
     "output_type": "error",
     "traceback": [
      "ArgumentError: Package Plots not found in current path:\n- Run `import Pkg; Pkg.add(\"Plots\")` to install the Plots package.\n",
      "",
      "Stacktrace:",
      " [1] require(::Module, ::Symbol) at .\\loading.jl:892",
      " [2] top-level scope at In[5]:1"
     ]
    }
   ],
   "source": [
    "using Plots\n",
    "x = 1:10; y = 2*(x-1)*e**(-0.5*x) + 4*e**(-x+2*e**(0.5*x)) - 0.5; \n",
    "plot(x,y)"
   ]
  },
  {
   "cell_type": "markdown",
   "metadata": {},
   "source": [
    "The optimal choice for the monopolist is price $\\rightarrow \\infty$, which means production $\\rightarrow 0$.<br>\n",
    "Indeed, we restrict ourselves to $p>0$, and rewrite the profit function:<br>\n",
    "$$\\pi(p) = 2(p-1)e^{-0.5p} + 4e^{-p + 2e^{0.5p}} - 0.5 = e^{-0.5p} (2(p-1) + 4e^{-0.5p + 2e^{0.5p}})$$\n",
    "First, note that profit is always positive for $p>1$. Also, see that $2p$ grows much faster than $e^{-0.5p}$ decreases, so $(2(p-1) + 4e^{-0.5p + 2e^{0.5p}})$ grows much faster too and on the whole, profit is increasing. Then, it is impossible to have FOC$ = 0$, and there is no maximum besides $p\\rightarrow \\infty$."
   ]
  },
  {
   "cell_type": "markdown",
   "metadata": {},
   "source": [
    "---\n",
    "\n",
    "## (modified) Solow model\n",
    "\n",
    "This model tries to explain long-term productivity, its relation to productivity and the speed of convergence.\n",
    "\n",
    "The setup is the following:\n",
    "\n",
    "- a country accumulates capital $k_t$\n",
    "- population $n_t$ grows at rate $g$\n",
    "- capital and labour are combined to produce $y_t = A F(k_t, n_t)$ where $A$ is total factor productivity.\n",
    "- capital depreciates at rate $\\delta$. Its law of motion is $k_{t+1}=k_{t}+i_{t}$ where $i_t$ is the amount invested at time $t$\n",
    "- production is either consumed or invested: $y_t = c_t + i_t$\n",
    "\n",
    "We choose a Cobb-Douglas specification with constant returns to scale $F(k_t, n_t) = k_t^{\\alpha} n_t^{1-\\alpha}$.\n",
    "\n",
    "In the Ramsey–Cass–Koopmans  model (also called neoclassical growth model), a representative agent would choose $c_t$ in every period so as to maximize an intertemporal utility like $\\sum_{t \\geq 0} \\beta^t U(c_t)$ where $\\beta \\in [0,1[$ is a time discount and $U(x)=\\frac{x^{1-\\gamma}}{1-\\gamma}$ is the instantaneous felicity.\n",
    "\n",
    "Here we follow the Solow-Swan specification and assume instead there is a fixed fraction $s\\in[0,1[$ of income in every period, which is saved and invested in every period. In other words:\n",
    "\n",
    "$$i_t = s y_t$$\n",
    "\n",
    "As a result, the dynamic of capital and all other variables will be backward looking and can be simulated easily.\n",
    "\n",
    "__Calibrate parameters $\\beta$, $\\delta$ and $g$, that is, propose plausible values for them, from the litterature, or by matching some observable fact.__"
   ]
  },
  {
   "cell_type": "markdown",
   "metadata": {},
   "source": [
    "https://www150.statcan.gc.ca/n1/pub/15-206-x/2015039/t/tbl06-eng.htm, https://www150.statcan.gc.ca/n1/pub/15-206-x/2015039/t/tbl07-eng.htm.\n",
    "\n",
    "Take $\\delta = 0.05$, a \"generous\" estimate\n",
    "\n",
    "https://mpra.ub.uni-muenchen.de/39736/1/MPRA_paper_39736.pdf\n",
    "\n",
    "Take $\\beta = 0.96$, the USA estimate.\n",
    "\n",
    "https://www.google.com/search?q=population+growth+usa&rlz=1C1JZAP_enFR898FR898&oq=population+growth+usa&aqs=chrome..69i57j0l7.4688j0j7&sourceid=chrome&ie=UTF-8\n",
    "\n",
    "Take $g = 0.011$ the world average population growth rate"
   ]
  },
  {
   "cell_type": "code",
   "execution_count": 6,
   "metadata": {},
   "outputs": [
    {
     "data": {
      "text/plain": [
       "0.011"
      ]
     },
     "execution_count": 6,
     "metadata": {},
     "output_type": "execute_result"
    }
   ],
   "source": [
    "δ = 0.05\n",
    "β = 0.96\n",
    "g = 0.011"
   ]
  },
  {
   "cell_type": "markdown",
   "metadata": {},
   "source": [
    "__Detrend the equations of the model w.r.t. population growth. Denote the detrended variables with a hat (in the code we assume all variables are detrended and ignore the hat).__"
   ]
  },
  {
   "cell_type": "markdown",
   "metadata": {},
   "source": [
    "$$\\hat{k}_t = \\frac{k_t}{n_t}$$\n",
    "\n",
    "\n",
    "$$\\hat{y}_t = \\frac{y_t}{n_t} = A\\frac{k_t^{\\alpha}n_t^{1-\\alpha}}{n_t} = A \\frac{k_t^{\\alpha}n_t^{1-\\alpha}}{n_t^{\\alpha}n_t^{1-\\alpha}} = A({\\frac{k_t}{n_t}})^{\\alpha} = \\hat{k}_t^{\\alpha}$$\n",
    "\n",
    "$$\\hat{k}_{t+1} = \\frac{k_{t+1}}{n_{t+1}} = \\frac{k_t(1-\\delta) + sy_t}{n_{t+1}} = (1-\\delta) \\frac{k_t}{n_t} \\frac{n_t}{n_{t+1}} + s \\frac{y}{n_t}\\frac{n_t}{n_{t+1}} = \\frac{1}{1+g} ( (1-\\delta) \\frac{k_t}{n_t} + s \\frac{y}{n_t}) = \\frac{(1-\\delta) \\hat{k}_t + s \\hat{y}_t}{1+g}  = \\frac{(1-\\delta) \\hat{k}_t + s {\\hat{k}_t}^{\\alpha}}{1+g} $$\n"
   ]
  },
  {
   "cell_type": "markdown",
   "metadata": {},
   "source": [
    "Our goal is to compute the steady-state and assess its stability.\n",
    "\n",
    "__Compute a function `f` which returns the capital $\\hat{k}_{t+1}$ as a function of $\\hat{k_t}$__"
   ]
  },
  {
   "cell_type": "code",
   "execution_count": 7,
   "metadata": {},
   "outputs": [
    {
     "data": {
      "text/plain": [
       "4.919492381552898"
      ]
     },
     "execution_count": 7,
     "metadata": {},
     "output_type": "execute_result"
    }
   ],
   "source": [
    "function f(k_t,s,α)\n",
    "    return ((1-δ)*k_t + s*(k_t)^(α))/(1+g)\n",
    "end\n",
    "\n",
    "f(5,0.1,0.5)"
   ]
  },
  {
   "cell_type": "markdown",
   "metadata": {},
   "source": [
    "__Starting from an initial level $\\hat{k}_0$ compute successive iterates of $f$ to find the long-run level $\\overline{k}$ of capital per capita. (Bonus: produce a nice plot of the convergence)__"
   ]
  },
  {
   "cell_type": "code",
   "execution_count": 41,
   "metadata": {},
   "outputs": [
    {
     "name": "stdout",
     "output_type": "stream",
     "text": [
      "0.8133261413782925, convergence: 128"
     ]
    },
    {
     "ename": "UndefVarError",
     "evalue": "UndefVarError: plot not defined",
     "output_type": "error",
     "traceback": [
      "UndefVarError: plot not defined",
      "",
      "Stacktrace:",
      " [1] top-level scope at In[41]:21"
     ]
    }
   ],
   "source": [
    "function lr(k_start,s,α)\n",
    "    k_new = f(k_start,s,α)\n",
    "    k=[k_start, k_new]\n",
    "    it = [0,1]\n",
    "    newit = 1\n",
    "    while abs( k_new - k_start) > 0.0001\n",
    "        newit = newit + 1\n",
    "        #println(k_new)\n",
    "        k_start = k_new\n",
    "        k_new = f(k_start,s,α)\n",
    "        #print(k)\n",
    "        k = [k;[k_new]]\n",
    "        it = [it;[newit]]\n",
    "    end\n",
    "    return [k_new, k,it, newit]\n",
    "end\n",
    "\n",
    "result = lr(5,0.1,0.5)\n",
    "\n",
    "print(result[1], \", convergence: \", result[4])\n",
    "\n",
    "plot(result[2], result[3])"
   ]
  },
  {
   "cell_type": "markdown",
   "metadata": {},
   "source": [
    "__What factors affect the steady-state level of capital?__"
   ]
  },
  {
   "cell_type": "markdown",
   "metadata": {},
   "source": [
    "Most saliently, the saving rate. Although every parameter is significant:"
   ]
  },
  {
   "cell_type": "code",
   "execution_count": 42,
   "metadata": {},
   "outputs": [
    {
     "name": "stdout",
     "output_type": "stream",
     "text": [
      "s = 0.1: 2.690581164129932 ---> s = 0.3: 24.183869373929877\n",
      "α = 0.5: 2.690581164129932 ---> α = 0.33: 10.77530360036766\n",
      "g = 0.011: 2.690581164129932 ---> g = 0.2: 2.043623655040326\n",
      "δ = 0.05: 2.690581164129932 ---> δ = 0.1: 0.8133261413782925\n"
     ]
    }
   ],
   "source": [
    "δ = 0.05\n",
    "g = 0.011\n",
    "\n",
    "basic = lr(5,0.1,0.5)[1]\n",
    "\n",
    "print(\"s = 0.1: \", basic, \" ---> s = 0.3: \",lr(5,0.3,0.5)[1], \"\\n\")\n",
    "\n",
    "print(\"α = 0.5: \", basic, \" ---> α = 0.33: \",lr(5,0.3,0.33)[1], \"\\n\")\n",
    "\n",
    "g = 0.02\n",
    "print(\"g = 0.011: \", basic, \" ---> g = 0.2: \",lr(5,0.1,0.5)[1], \"\\n\")\n",
    "\n",
    "g = 0.011\n",
    "δ = 0.1\n",
    "print(\"δ = 0.05: \", basic, \" ---> δ = 0.1: \",lr(5,0.1,0.5)[1], \"\\n\")"
   ]
  },
  {
   "cell_type": "markdown",
   "metadata": {},
   "source": [
    "__Study the stability of $f$ around $\\overline{k}$. Which factors affect the speed of convergence towards the steady-state?__"
   ]
  },
  {
   "cell_type": "code",
   "execution_count": 43,
   "metadata": {},
   "outputs": [
    {
     "name": "stdout",
     "output_type": "stream",
     "text": [
      "s = 0.1: 210 ---> s = 0.3: 295\n",
      "α = 0.5: 210 ---> α = 0.33: 192\n",
      "g = 0.011: 210 ---> g = 0.2: 192\n",
      "δ = 0.05: 210 ---> δ = 0.1: 128\n"
     ]
    }
   ],
   "source": [
    "δ = 0.05\n",
    "g = 0.011\n",
    "\n",
    "basic = lr(5,0.1,0.5)[4]\n",
    "\n",
    "print(\"s = 0.1: \", basic, \" ---> s = 0.3: \",lr(5,0.3,0.5)[4], \"\\n\")\n",
    "\n",
    "print(\"α = 0.5: \", basic, \" ---> α = 0.33: \",lr(5,0.3,0.33)[4], \"\\n\")\n",
    "\n",
    "g = 0.02\n",
    "print(\"g = 0.011: \", basic, \" ---> g = 0.2: \",lr(5,0.1,0.5)[4], \"\\n\")\n",
    "\n",
    "g = 0.011\n",
    "δ = 0.1\n",
    "print(\"δ = 0.05: \", basic, \" ---> δ = 0.1: \",lr(5,0.1,0.5)[4], \"\\n\")"
   ]
  },
  {
   "cell_type": "markdown",
   "metadata": {},
   "source": [
    "__Compute the steady-state directly using a Newton method and compare convergence speed.__"
   ]
  },
  {
   "cell_type": "code",
   "execution_count": 44,
   "metadata": {},
   "outputs": [
    {
     "data": {
      "text/plain": [
       "fun (generic function with 1 method)"
      ]
     },
     "execution_count": 44,
     "metadata": {},
     "output_type": "execute_result"
    }
   ],
   "source": [
    "function fun(x,s,a)\n",
    "    return f(x,s,a) - x\n",
    "end"
   ]
  },
  {
   "cell_type": "code",
   "execution_count": 45,
   "metadata": {},
   "outputs": [
    {
     "name": "stdout",
     "output_type": "stream",
     "text": [
      "0.8133261413782925, convergence: 128"
     ]
    },
    {
     "ename": "UndefVarError",
     "evalue": "UndefVarError: plot not defined",
     "output_type": "error",
     "traceback": [
      "UndefVarError: plot not defined",
      "",
      "Stacktrace:",
      " [1] top-level scope at In[45]:22"
     ]
    }
   ],
   "source": [
    "\n",
    "function Newton(k_start,s,α)\n",
    "    k_new = fun(k_start,s,α)\n",
    "    k=[k_start, k_new]\n",
    "    it = [0,1]\n",
    "    newit = 1\n",
    "    while abs(k_new - k_start) > 0.0001 && abs(fun(k_start,s,α)) > 0.0001\n",
    "        newit = newit + 1\n",
    "        #println(k_new)\n",
    "        k_start = k_new\n",
    "        k_new = fun(k_start,s,α)\n",
    "        #print(k)\n",
    "        k = [k;[k_new]]\n",
    "        it = [it;[newit]]\n",
    "    end\n",
    "    return [k_new, k,it, newit]\n",
    "end\n",
    "\n",
    "result = lr(5,0.1,0.5)\n",
    "\n",
    "print(result[1], \", convergence: \", result[4])\n",
    "\n",
    "plot(result[2], result[3])\n"
   ]
  },
  {
   "cell_type": "markdown",
   "metadata": {},
   "source": [
    "Apparently, the convergence is as fast."
   ]
  },
  {
   "cell_type": "markdown",
   "metadata": {},
   "source": [
    "__Suppose one tries to maximize steady-state consumption by choosing saving rate $s$. Which value would one choose?__"
   ]
  },
  {
   "cell_type": "code",
   "execution_count": 46,
   "metadata": {},
   "outputs": [
    {
     "ename": "MethodError",
     "evalue": "MethodError: no method matching +(::Float64, ::StepRangeLen{Float64,Base.TwicePrecision{Float64},Base.TwicePrecision{Float64}})\nClosest candidates are:\n  +(::Any, ::Any, !Matched::Any, !Matched::Any...) at operators.jl:529\n  +(::Float64, !Matched::Float64) at float.jl:401\n  +(::AbstractFloat, !Matched::Bool) at bool.jl:106\n  ...",
     "output_type": "error",
     "traceback": [
      "MethodError: no method matching +(::Float64, ::StepRangeLen{Float64,Base.TwicePrecision{Float64},Base.TwicePrecision{Float64}})\nClosest candidates are:\n  +(::Any, ::Any, !Matched::Any, !Matched::Any...) at operators.jl:529\n  +(::Float64, !Matched::Float64) at float.jl:401\n  +(::AbstractFloat, !Matched::Bool) at bool.jl:106\n  ...",
      "",
      "Stacktrace:",
      " [1] f(::Int64, ::StepRangeLen{Float64,Base.TwicePrecision{Float64},Base.TwicePrecision{Float64}}, ::Float64) at .\\In[7]:2",
      " [2] fun(::Int64, ::StepRangeLen{Float64,Base.TwicePrecision{Float64},Base.TwicePrecision{Float64}}, ::Float64) at .\\In[44]:2",
      " [3] Newton(::Int64, ::StepRangeLen{Float64,Base.TwicePrecision{Float64},Base.TwicePrecision{Float64}}, ::Float64) at .\\In[45]:3",
      " [4] top-level scope at In[46]:1"
     ]
    }
   ],
   "source": [
    "s = 0: 0.99 ; res = Newton(5,s,0.5)\n",
    "plot(s,res)"
   ]
  },
  {
   "cell_type": "markdown",
   "metadata": {},
   "source": [
    "__(Bonus) Suppose an agent is given the intertemporal utility from the Ramsey–Cass–Koopmans model but chooses saving rate once for all. Which saving rate would one choose? Is it the same for all initial levels of capital?__\n",
    "\n"
   ]
  },
  {
   "cell_type": "code",
   "execution_count": null,
   "metadata": {},
   "outputs": [],
   "source": []
  },
  {
   "cell_type": "markdown",
   "metadata": {},
   "source": [
    "---\n",
    "\n",
    "## Exercise: constrained optimization\n",
    "\n",
    "Consider the function $f(x,y) = 1-(x-0.5)^2 -(y-0.3)^2$.\n",
    "\n",
    "__Use Optim.jl to minimize $f$ without constraint. Check you understand diagnositc information.__"
   ]
  },
  {
   "cell_type": "code",
   "execution_count": 1,
   "metadata": {},
   "outputs": [
    {
     "ename": "LoadError",
     "evalue": "syntax: unexpected \"]\"",
     "output_type": "error",
     "traceback": [
      "syntax: unexpected \"]\"",
      ""
     ]
    }
   ],
   "source": [
    "#using Pkg; Pkg.add(\"Optim\")\n",
    "\n",
    "\n",
    "\n",
    "f(x)= 1 -(x[1] - 0.5)^2 - (x[2] - 0.3)^2\n",
    "\n",
    "x0 = [0.0,0.0]\n",
    "results = optimize(f,x0)\n",
    "\n",
    "print(results)"
   ]
  },
  {
   "cell_type": "markdown",
   "metadata": {},
   "source": [
    "__Now, consider the constraint $x<0.3$ and maximize $f$ under this new constraint.__"
   ]
  },
  {
   "cell_type": "code",
   "execution_count": null,
   "metadata": {},
   "outputs": [],
   "source": [
    "using Optim\n",
    "\n",
    "function g!(G, x)\n",
    "G[1] = -2.0 * x[1] + 1\n",
    "G[2] = -2.0 * y + 0.6\n",
    "end\n",
    "\n",
    "lower = [-Inf, -Inf]\n",
    "upper = [0.3, Inf]\n",
    "initial_x = [2.0, 2.0]\n",
    "inner_optimizer = GradientDescent()\n",
    "results = optimize(f, g!, lower, upper, initial_x, Fminbox(inner_optimizer))\n",
    "\n",
    "print(results)"
   ]
  },
  {
   "cell_type": "markdown",
   "metadata": {},
   "source": [
    "__Reformulate the problem as a root finding with lagrangians. Write the complementarity conditions.__"
   ]
  },
  {
   "cell_type": "markdown",
   "metadata": {},
   "source": [
    "The Lagrangian is:\n",
    "\n",
    "$L(x,y,\\lambda) = 1 - (x-0.5)^2 - (y-0.3)^2 - \\lambda x$\n",
    "\n",
    "And the conditions are:\n",
    "\n",
    "$\\frac{d L}{dx} = 0 \\text{ i.e. } -2x + 1 = 0$\n",
    "\n",
    "$\\frac{d L}{dy} = 0 \\text{ i.e. } -2x + 0.6 = 0$\n",
    "\n",
    "$\\lambda(x-0.3) = 0$\n"
   ]
  },
  {
   "cell_type": "markdown",
   "metadata": {},
   "source": [
    "__Solve using NLSolve.jl__"
   ]
  },
  {
   "cell_type": "code",
   "execution_count": null,
   "metadata": {},
   "outputs": [],
   "source": [
    "using NLsolve\n",
    "\n",
    "function f!(F, x)\n",
    "    F[1] = -2*x[1] + 1\n",
    "    F[2] = -2*y + 0.6\n",
    "    F[3] = x[3] *(x[1] - 0.3)\n",
    "end\n",
    "\n",
    "function j!(J, x)\n",
    "    J[1, 1] = -2\n",
    "    J[1, 2] = 0\n",
    "    J[1, 3] = 0\n",
    "    J[2, 1] = 0\n",
    "    J[2, 2] = -2\n",
    "    J[2, 3] = 0\n",
    "    J[3, 1] = x[3]\n",
    "    J[3, 2] = 0\n",
    "    J[3, 3] = x[1] - 0.3\n",
    "end\n",
    "\n",
    "\n",
    "results = nlsolve(f!, j!, [ 0.0; 1.0])\n",
    "\n",
    "print(results)"
   ]
  },
  {
   "cell_type": "markdown",
   "metadata": {},
   "source": [
    "---\n",
    "\n",
    "## Consumption optimization\n",
    "\n",
    "A consumer has preferences $U(c_1, c_2)$ over two consumption goods $c_1$ and $c_2$.\n",
    "\n",
    "Given a budget $I$, consumer wants to maximize utility subject to the budget constraint $p_1 c_1 + p_2 c_2 \\leq I$.\n",
    "\n",
    "We choose a Stone-Geary specification where\n",
    "\n",
    "$U(c_1, c_2)=\\beta_1 \\log(c_1-\\gamma_1) + \\beta_2 \\log(c_2-\\gamma_2)$\n",
    "\n",
    "__Write the Karush-Kuhn-Tucker necessary conditions for the problem.__"
   ]
  },
  {
   "cell_type": "markdown",
   "metadata": {},
   "source": [
    "Complementary slackness:<br>\n",
    "$$\\lambda \\geq 0$$\n",
    "$$\\lambda(p_1 c_1 + p_2 c_2 - I) = 0$$\n",
    "First-order conditions:\n",
    "$$\\beta_1 \\frac{1}{c_1 - \\gamma_1} - \\lambda p_1 =0$$\n",
    "$$\\beta_2 \\frac{1}{c_2 - \\gamma_2} - \\lambda p_2 =0$$"
   ]
  },
  {
   "cell_type": "markdown",
   "metadata": {},
   "source": [
    "__Verify the KKT conditions are sufficient for optimality.__"
   ]
  },
  {
   "cell_type": "markdown",
   "metadata": {},
   "source": [
    "Yes, as $U$ is concave, and $p_1 c_1 + p_2 c_2 - I$ is continuously differentiable and convex."
   ]
  },
  {
   "cell_type": "markdown",
   "metadata": {},
   "source": [
    "__Derive analytically the demand functions, and the shadow price.__"
   ]
  },
  {
   "cell_type": "markdown",
   "metadata": {},
   "source": [
    "$\\beta_1 \\frac{1}{c_1 - \\gamma_1} - \\lambda p_1 =0 \\iff \\lambda p_1 (c_1 - \\gamma_1) = \\beta_1 \\iff c_1 = \\frac{\\beta_1}{\\lambda p_1} + \\gamma_1$. \n",
    "\n",
    "Likewise, $\\beta_2 \\frac{1}{c_2 - \\gamma_2} - \\lambda p_2 =0  \\iff c_2 = \\frac{\\beta_2}{\\lambda p_2} + \\gamma_2$.\n",
    "\n",
    "$\\lambda(p_1c_1 + p_2c2) = 0 \\iff \\lambda(\\frac{\\beta_1}{\\lambda p_1} + \\gamma_1 + \\frac{\\beta_2}{\\lambda p_2} + \\gamma_2) \\iff \\lambda = \\frac{-\\beta_1 - \\beta_2}{p_1\\gamma_1 + p_2 \\gamma_2}$\n",
    "\n",
    "Which then gives:\n",
    "\n",
    "$c_1 = \\frac{\\beta_1 (p_1\\gamma_1 + p_2 \\gamma_2)}{p_1(-\\beta_1 - \\beta_2)} + \\gamma_1$\n",
    "\n",
    "$c_2 = \\frac{\\beta_2(p_1\\gamma_1 + p_2 \\gamma_2)}{p_2 (-\\beta_1 - \\beta_2)} + \\gamma_2$."
   ]
  },
  {
   "cell_type": "markdown",
   "metadata": {},
   "source": [
    "__Interpret this problem as a complementarity problem and solve it using NLSolve__"
   ]
  },
  {
   "cell_type": "code",
   "execution_count": null,
   "metadata": {},
   "outputs": [],
   "source": [
    "using NLsolve\n",
    "\n",
    "function f!(F, x)\n",
    "    F[1] = -2*x[1] + 1\n",
    "    F[2] = -2*y + 0.6\n",
    "    F[3] = x[3] *(x[1] - 0.3)\n",
    "end\n",
    "\n",
    "function j!(J, x)\n",
    "    J[1, 1] = -2\n",
    "    J[1, 2] = 0\n",
    "    J[1, 3] = 0\n",
    "    J[2, 1] = 0\n",
    "    J[2, 2] = -2\n",
    "    J[2, 3] = 0\n",
    "    J[3, 1] = x[3]\n",
    "    J[3, 2] = 0\n",
    "    J[3, 3] = x[1] - 0.3\n",
    "end\n",
    "\n",
    "\n",
    "results = nlsolve(f!, j!, [ 0.0; 1.0])\n",
    "\n",
    "print(results)"
   ]
  },
  {
   "cell_type": "markdown",
   "metadata": {},
   "source": [
    "__Produce some nice graphs with isoutility curves, the budget constraint and the optimal choice.__\n",
    "\n"
   ]
  },
  {
   "cell_type": "code",
   "execution_count": null,
   "metadata": {},
   "outputs": [],
   "source": []
  }
 ],
 "metadata": {
  "kernelspec": {
   "display_name": "Julia 1.4.0",
   "language": "julia",
   "name": "julia-1.4"
  },
  "language_info": {
   "file_extension": ".jl",
   "mimetype": "application/julia",
   "name": "julia",
   "version": "1.4.0"
  }
 },
 "nbformat": 4,
 "nbformat_minor": 4
}
